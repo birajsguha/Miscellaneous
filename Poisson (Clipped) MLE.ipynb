{
 "cells": [
  {
   "cell_type": "code",
   "execution_count": 1,
   "metadata": {},
   "outputs": [],
   "source": [
    "import numpy as np\n",
    "import scipy.optimize as opt\n",
    "import scipy.stats as stat\n",
    "import matplotlib.pyplot as plt"
   ]
  },
  {
   "cell_type": "code",
   "execution_count": 2,
   "metadata": {},
   "outputs": [],
   "source": [
    "# defining the poisson clipping function\n",
    "def clip_poisson(t, c_0):\n",
    "    return c_0 - np.log(1 + np.exp(-t + c_0))"
   ]
  },
  {
   "cell_type": "code",
   "execution_count": 3,
   "metadata": {},
   "outputs": [
    {
     "data": {
      "text/plain": [
       "1.951412648426258"
      ]
     },
     "execution_count": 3,
     "metadata": {},
     "output_type": "execute_result"
    }
   ],
   "source": [
    "# example value of clipping function for argument 2 at c_0 = 5\n",
    "clip_poisson(2, 5)"
   ]
  },
  {
   "cell_type": "code",
   "execution_count": 4,
   "metadata": {},
   "outputs": [],
   "source": [
    "x_seq_temp = list(range(-500, 2500, 1))\n",
    "x_seq = [i/100 for i in x_seq_temp]"
   ]
  },
  {
   "cell_type": "code",
   "execution_count": 5,
   "metadata": {},
   "outputs": [],
   "source": [
    "y_seq_5 = [clip_poisson(t, 5) for t in x_seq]\n",
    "y_seq_10 = [clip_poisson(t, 10) for t in x_seq]"
   ]
  },
  {
   "cell_type": "code",
   "execution_count": 6,
   "metadata": {},
   "outputs": [
    {
     "data": {
      "image/png": "[encoded data removed]",
      "text/plain": [
       "<Figure size 432x288 with 1 Axes>"
      ]
     },
     "metadata": {
      "needs_background": "light"
     },
     "output_type": "display_data"
    }
   ],
   "source": [
    "# clipping function for Poisson for c_0 = 5, 10\n",
    "plt.plot(x_seq, y_seq_5);\n",
    "plt.plot(x_seq, y_seq_10);"
   ]
  },
  {
   "cell_type": "code",
   "execution_count": 7,
   "metadata": {},
   "outputs": [
    {
     "data": {
      "image/png": "[encoded data removed]",
      "text/plain": [
       "<Figure size 432x288 with 1 Axes>"
      ]
     },
     "metadata": {
      "needs_background": "light"
     },
     "output_type": "display_data"
    }
   ],
   "source": [
    "# how A(eta(t)) looks like for Poisson\n",
    "y_exp_5 = np.exp([clip_poisson(x, 5) for x in x_seq])\n",
    "plt.plot(x_seq, y_exp_5);"
   ]
  },
  {
   "cell_type": "code",
   "execution_count": 8,
   "metadata": {},
   "outputs": [],
   "source": [
    "# negative log-likelihood un-normalized\n",
    "def pois_lik(beta, X, Y, c_0):\n",
    "    X_beta = [np.dot(x, beta) for x in X]\n",
    "    clipped_X_beta = [clip_poisson(t = a, c_0 = c_0) for a in X_beta]\n",
    "    lik_clipped = sum(Y*clipped_X_beta - np.exp(clipped_X_beta))\n",
    "    return -lik_clipped"
   ]
  },
  {
   "cell_type": "code",
   "execution_count": 9,
   "metadata": {},
   "outputs": [],
   "source": [
    "# generating X, Y\n",
    "n = 50\n",
    "p = 10\n",
    "beta_0 = np.ones(p)\n",
    "# beta_0 = np.zeros(p)\n",
    "X = np.random.normal(loc = 0, scale = 1, size = (n, p))\n",
    "Y = np.array([np.random.poisson(lam = np.exp(np.dot(x, beta_0))) for x in X])\n",
    "c_0 = 10"
   ]
  },
  {
   "cell_type": "code",
   "execution_count": 10,
   "metadata": {
    "scrolled": false
   },
   "outputs": [],
   "source": [
    "# running and storing the optimization routine\n",
    "opt_store = opt.minimize(pois_lik, np.zeros(p), args = (X, Y, c_0), method = 'Powell')"
   ]
  },
  {
   "cell_type": "code",
   "execution_count": 11,
   "metadata": {},
   "outputs": [
    {
     "data": {
      "text/plain": [
       "array([0.97380356, 0.95406315, 0.86058158, 0.99104861, 0.95808072,\n",
       "       1.12035503, 1.09058358, 0.99403746, 0.93265906, 0.97873239])"
      ]
     },
     "execution_count": 11,
     "metadata": {},
     "output_type": "execute_result"
    }
   ],
   "source": [
    "# compare with beta_0 = all ones (c_0 = 10)\n",
    "opt_store.x"
   ]
  },
  {
   "cell_type": "code",
   "execution_count": 12,
   "metadata": {},
   "outputs": [],
   "source": [
    "# generating X, Y\n",
    "n = 50\n",
    "p = 10\n",
    "beta_0 = np.ones(p)\n",
    "# beta_0 = np.zeros(p)\n",
    "X = np.random.normal(loc = 0, scale = 1, size = (n, p))\n",
    "Y = np.array([np.random.poisson(lam = np.exp(np.dot(x, beta_0))) for x in X])\n",
    "c_0 = 3"
   ]
  },
  {
   "cell_type": "code",
   "execution_count": 13,
   "metadata": {
    "scrolled": false
   },
   "outputs": [],
   "source": [
    "# running and storing the optimization routine\n",
    "opt_store = opt.minimize(pois_lik, np.zeros(p), args = (X, Y, c_0), method = 'Powell')"
   ]
  },
  {
   "cell_type": "code",
   "execution_count": 14,
   "metadata": {},
   "outputs": [
    {
     "data": {
      "text/plain": [
       "array([2.09280212, 1.74932176, 1.99744938, 1.57483124, 2.32169182,\n",
       "       1.17379807, 2.05448786, 1.52796457, 1.62418799, 0.95844447])"
      ]
     },
     "execution_count": 14,
     "metadata": {},
     "output_type": "execute_result"
    }
   ],
   "source": [
    "# compare with beta_0 = all ones (c_0 = 3)\n",
    "opt_store.x"
   ]
  },
  {
   "cell_type": "code",
   "execution_count": 15,
   "metadata": {},
   "outputs": [],
   "source": [
    "# generating X, Y\n",
    "n = 50\n",
    "p = 10\n",
    "beta_0 = np.ones(p)\n",
    "# beta_0 = np.zeros(p)\n",
    "X = np.random.normal(loc = 0, scale = 1, size = (n, p))\n",
    "Y = np.array([np.random.poisson(lam = np.exp(np.dot(x, beta_0))) for x in X])\n",
    "c_0 = .5"
   ]
  },
  {
   "cell_type": "code",
   "execution_count": 16,
   "metadata": {
    "scrolled": false
   },
   "outputs": [],
   "source": [
    "# running and storing the optimization routine\n",
    "opt_store = opt.minimize(pois_lik, np.zeros(p), args = (X, Y, c_0), method = 'Powell')"
   ]
  },
  {
   "cell_type": "code",
   "execution_count": 17,
   "metadata": {},
   "outputs": [
    {
     "data": {
      "text/plain": [
       "array([ 2.03055361,  4.80860232,  3.20021291,  4.67138179,  3.57508122,\n",
       "        2.95776079,  3.92214196,  2.42649281,  1.29203928, -0.83695807])"
      ]
     },
     "execution_count": 17,
     "metadata": {},
     "output_type": "execute_result"
    }
   ],
   "source": [
    "# compare with beta_0 = all ones (c_0 = .5)\n",
    "opt_store.x"
   ]
  },
  {
   "cell_type": "code",
   "execution_count": 18,
   "metadata": {},
   "outputs": [],
   "source": [
    "# mse function for a fixed c_0 and fixed beta_0\n",
    "def mse(n, p, c_0, beta_0, n_iter):\n",
    "    beta_sum = 0\n",
    "    for i in range(n_iter):\n",
    "        X = np.random.normal(loc = 0, scale = 1, size = (n, p))\n",
    "        Y = np.array([np.random.poisson(lam = np.exp(np.dot(x, beta_0))) for x in X])\n",
    "        opt_store = opt.minimize(pois_lik, np.zeros(p), args = (X, Y, c_0), method = 'Powell')\n",
    "        val = np.dot(opt_store.x - beta_0, opt_store.x - beta_0)/p\n",
    "        beta_sum = ((beta_sum*i) + val)/(i + 1)\n",
    "    return beta_sum"
   ]
  },
  {
   "cell_type": "code",
   "execution_count": 19,
   "metadata": {},
   "outputs": [
    {
     "data": {
      "text/plain": [
       "0.009725642865507405"
      ]
     },
     "execution_count": 19,
     "metadata": {},
     "output_type": "execute_result"
    }
   ],
   "source": [
    "mse(n = 100, p = 10, c_0 = 10, beta_0 = np.zeros(10), n_iter = 100)"
   ]
  },
  {
   "cell_type": "code",
   "execution_count": 20,
   "metadata": {},
   "outputs": [
    {
     "data": {
      "text/plain": [
       "0.013472555674689942"
      ]
     },
     "execution_count": 20,
     "metadata": {},
     "output_type": "execute_result"
    }
   ],
   "source": [
    "mse(n = 100, p = 10, c_0 = 3, beta_0 = np.zeros(10), n_iter = 100)"
   ]
  },
  {
   "cell_type": "code",
   "execution_count": 21,
   "metadata": {},
   "outputs": [
    {
     "data": {
      "text/plain": [
       "0.05956296099219581"
      ]
     },
     "execution_count": 21,
     "metadata": {},
     "output_type": "execute_result"
    }
   ],
   "source": [
    "mse(n = 100, p = 10, c_0 = .5, beta_0 = np.zeros(10), n_iter = 100)"
   ]
  },
  {
   "cell_type": "code",
   "execution_count": 22,
   "metadata": {},
   "outputs": [],
   "source": [
    "# We see that average MSE tends to increase with lower c_0, as expected, true beta_0 is all zeros"
   ]
  },
  {
   "cell_type": "code",
   "execution_count": 23,
   "metadata": {},
   "outputs": [
    {
     "data": {
      "text/plain": [
       "0.023239361321027985"
      ]
     },
     "execution_count": 23,
     "metadata": {},
     "output_type": "execute_result"
    }
   ],
   "source": [
    "mse(n = 100, p = 10, c_0 = 10, beta_0 = np.ones(10), n_iter = 100)"
   ]
  },
  {
   "cell_type": "code",
   "execution_count": 24,
   "metadata": {},
   "outputs": [
    {
     "data": {
      "text/plain": [
       "4.276050883648557"
      ]
     },
     "execution_count": 24,
     "metadata": {},
     "output_type": "execute_result"
    }
   ],
   "source": [
    "mse(n = 100, p = 10, c_0 = 3, beta_0 = np.ones(10), n_iter = 100)"
   ]
  },
  {
   "cell_type": "code",
   "execution_count": 25,
   "metadata": {},
   "outputs": [
    {
     "data": {
      "text/plain": [
       "5.79373723480374"
      ]
     },
     "execution_count": 25,
     "metadata": {},
     "output_type": "execute_result"
    }
   ],
   "source": [
    "mse(n = 100, p = 10, c_0 = .5, beta_0 = np.ones(10), n_iter = 100)"
   ]
  },
  {
   "cell_type": "code",
   "execution_count": 26,
   "metadata": {},
   "outputs": [],
   "source": [
    "# We see that average MSE tends to increase with lower c_0, as expected, true beta_0 is all ones"
   ]
  },
  {
   "cell_type": "code",
   "execution_count": 27,
   "metadata": {},
   "outputs": [],
   "source": [
    "# taking small interval for univariate beta, larger values run into poisson generation error in python\n",
    "beta_seq = np.array(range(-10, 11, 1))/5\n",
    "mse_array_10 = [mse(n = 50, p = 1, c_0 = 10, beta_0 = np.array([i]), n_iter = 100) for i in beta_seq]"
   ]
  },
  {
   "cell_type": "code",
   "execution_count": 28,
   "metadata": {},
   "outputs": [
    {
     "data": {
      "text/plain": [
       "[0.0035808688292393027,\n",
       " 0.0023212953646777634,\n",
       " 0.004556442113806595,\n",
       " 0.006904339312583718,\n",
       " 0.007944820441196394,\n",
       " 0.007154611358873266,\n",
       " 0.011017866369315168,\n",
       " 0.013283162055950183,\n",
       " 0.023415672393213616,\n",
       " 0.01947166494192612,\n",
       " 0.01949889011553914,\n",
       " 0.017740895928823528,\n",
       " 0.017430123491389112,\n",
       " 0.014923467094096197,\n",
       " 0.011878462679701845,\n",
       " 0.008187986139635969,\n",
       " 0.006779810174108403,\n",
       " 0.006657605622425551,\n",
       " 0.003334578323674115,\n",
       " 0.0028015982182420613,\n",
       " 0.0018849214638640727]"
      ]
     },
     "execution_count": 28,
     "metadata": {},
     "output_type": "execute_result"
    }
   ],
   "source": [
    "mse_array_10"
   ]
  },
  {
   "cell_type": "code",
   "execution_count": 29,
   "metadata": {},
   "outputs": [],
   "source": [
    "beta_seq = np.array(range(-10, 11, 1))/5\n",
    "mse_array_3 = [mse(n = 50, p = 1, c_0 = 3, beta_0 = np.array([i]), n_iter = 100) for i in beta_seq]"
   ]
  },
  {
   "cell_type": "code",
   "execution_count": 30,
   "metadata": {},
   "outputs": [
    {
     "data": {
      "text/plain": [
       "[0.8774163203507045,\n",
       " 0.5316362256616336,\n",
       " 0.3706268006698248,\n",
       " 0.2055682694834815,\n",
       " 0.09771240731699535,\n",
       " 0.05852093789420623,\n",
       " 0.031358699303665444,\n",
       " 0.02907800502301707,\n",
       " 0.02506630975116289,\n",
       " 0.02550180198145403,\n",
       " 0.025382744238280755,\n",
       " 0.02075626288921772,\n",
       " 0.01939729557555227,\n",
       " 0.02286004280305371,\n",
       " 0.028590143756198234,\n",
       " 0.05961385637067119,\n",
       " 0.11693666832998648,\n",
       " 0.2020229408206222,\n",
       " 0.3463470875993799,\n",
       " 0.5923555938476137,\n",
       " 0.9126431956020852]"
      ]
     },
     "execution_count": 30,
     "metadata": {},
     "output_type": "execute_result"
    }
   ],
   "source": [
    "mse_array_3"
   ]
  },
  {
   "cell_type": "code",
   "execution_count": 37,
   "metadata": {},
   "outputs": [],
   "source": [
    "beta_seq = np.array(range(-10, 11, 1))/5\n",
    "mse_array_half = [mse(n = 50, p = 1, c_0 = .5, beta_0 = np.array([i]), n_iter = 100) for i in beta_seq]"
   ]
  },
  {
   "cell_type": "code",
   "execution_count": 38,
   "metadata": {},
   "outputs": [
    {
     "data": {
      "text/plain": [
       "[7.859048307307587,\n",
       " 6.906788707905795,\n",
       " 4.664176350625516,\n",
       " 3.7752030945152124,\n",
       " 3.049031180105107,\n",
       " 1.837235341739745,\n",
       " 1.0758265864313004,\n",
       " 0.627250444560982,\n",
       " 0.2982837273587871,\n",
       " 0.18076681792089783,\n",
       " 0.10054903423625582,\n",
       " 0.1673316299159894,\n",
       " 0.32051210397730023,\n",
       " 0.6464248680394222,\n",
       " 1.1944932990375339,\n",
       " 1.5179691999130092,\n",
       " 2.3526528235161215,\n",
       " 3.6522434220599074,\n",
       " 4.781452475506063,\n",
       " 5.094966431116124,\n",
       " 7.293333528705153]"
      ]
     },
     "execution_count": 38,
     "metadata": {},
     "output_type": "execute_result"
    }
   ],
   "source": [
    "mse_array_half"
   ]
  },
  {
   "cell_type": "code",
   "execution_count": 39,
   "metadata": {},
   "outputs": [
    {
     "data": {
      "image/png": "[encoded data removed]",
      "text/plain": [
       "<Figure size 432x288 with 1 Axes>"
      ]
     },
     "metadata": {
      "needs_background": "light"
     },
     "output_type": "display_data"
    }
   ],
   "source": [
    "# MSE plot for uni-variate beta\n",
    "plt.plot(beta_seq, mse_array_10, label='c_0 = 10');\n",
    "plt.plot(beta_seq, mse_array_3, label='c_0 = 3');\n",
    "plt.plot(beta_seq, mse_array_half, label='c_0 = 0.5');\n",
    "plt.xlabel('True beta')\n",
    "plt.ylabel('Average MSE over 100 iterations')\n",
    "plt.legend();"
   ]
  }
 ],
 "metadata": {
  "kernelspec": {
   "display_name": "Python 3",
   "language": "python",
   "name": "python3"
  },
  "language_info": {
   "codemirror_mode": {
    "name": "ipython",
    "version": 3
   },
   "file_extension": ".py",
   "mimetype": "text/x-python",
   "name": "python",
   "nbconvert_exporter": "python",
   "pygments_lexer": "ipython3",
   "version": "3.7.6"
  }
 },
 "nbformat": 4,
 "nbformat_minor": 4
}
